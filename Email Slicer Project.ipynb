{
 "cells": [
  {
   "cell_type": "code",
   "execution_count": 3,
   "id": "0114d447",
   "metadata": {},
   "outputs": [],
   "source": [
    "def email_slicer():\n",
    "    email = input(\"Enter your Email id: \").strip()\n",
    "    username = email[:email.index('@')]\n",
    "    domain = email[email.index('@')+1:]\n",
    "    print(\"\\nYour username is\",username,\"& your domain is\",domain)"
   ]
  },
  {
   "cell_type": "code",
   "execution_count": 8,
   "id": "46d2693e",
   "metadata": {},
   "outputs": [
    {
     "name": "stdout",
     "output_type": "stream",
     "text": [
      "Enter your Email id: jojo@gmail.com\n",
      "\n",
      "Your username is jojo & your domain is gmail.com\n"
     ]
    }
   ],
   "source": [
    "email_slicer()"
   ]
  },
  {
   "cell_type": "code",
   "execution_count": null,
   "id": "a580e461",
   "metadata": {},
   "outputs": [],
   "source": []
  }
 ],
 "metadata": {
  "kernelspec": {
   "display_name": "Python 3 (ipykernel)",
   "language": "python",
   "name": "python3"
  },
  "language_info": {
   "codemirror_mode": {
    "name": "ipython",
    "version": 3
   },
   "file_extension": ".py",
   "mimetype": "text/x-python",
   "name": "python",
   "nbconvert_exporter": "python",
   "pygments_lexer": "ipython3",
   "version": "3.9.13"
  }
 },
 "nbformat": 4,
 "nbformat_minor": 5
}
